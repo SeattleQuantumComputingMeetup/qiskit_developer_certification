{
 "cells": [
  {
   "cell_type": "markdown",
   "id": "6b9dbad6-b74c-4f22-804d-eef181d01a86",
   "metadata": {},
   "source": [
    "# Qiskit v2.0 Developer Certification Study Session #2"
   ]
  },
  {
   "cell_type": "markdown",
   "id": "52dd6a8f-6e40-450c-b6c0-6ca3bf953d9b",
   "metadata": {},
   "source": [
    "## Official IBM Site for the Exam\n",
    "\n",
    "[Register, Study Guide, Sample Test](https://www.ibm.com/training/certification/ibm-certified-quantum-computation-using-qiskit-v2x-developer-associate-C9008400)\n"
   ]
  },
  {
   "cell_type": "markdown",
   "id": "3ed1b34f-8f8b-4746-b164-e0212e2467de",
   "metadata": {},
   "source": [
    "## SQCM Sample Exam in the SQCM github\n",
    "\n",
    "You can git clone, or fork, the qiskit_developer_certification repo.\n",
    "\n",
    "Sample Exam Files and Study Session Presentations:\n",
    "\n",
    "[sample exam pdf](https://github.com/SeattleQuantumComputingMeetup/qiskit_developer_certification/blob/main/Sample_Exam_Qiskit2.0_Developer_Certification_2025.pdf)\n",
    "\n",
    "[sample exam jupyter notebook and Study Session #1 Presentation (July 2025)](https://github.com/SeattleQuantumComputingMeetup/qiskit_developer_certification/blob/main/qiskit_dev_cert_exam_with_code_answers.ipynb)\n",
    "\n",
    "[Study Session #2 Presentation (August 2025)]()\n"
   ]
  },
  {
   "cell_type": "code",
   "execution_count": null,
   "id": "1712b8fd-f9a1-4a81-b226-c3c493b4917e",
   "metadata": {},
   "outputs": [],
   "source": []
  }
 ],
 "metadata": {
  "kernelspec": {
   "display_name": "qk2_py312",
   "language": "python",
   "name": "qk2_py312"
  },
  "language_info": {
   "codemirror_mode": {
    "name": "ipython",
    "version": 3
   },
   "file_extension": ".py",
   "mimetype": "text/x-python",
   "name": "python",
   "nbconvert_exporter": "python",
   "pygments_lexer": "ipython3",
   "version": "3.12.11"
  }
 },
 "nbformat": 4,
 "nbformat_minor": 5
}
